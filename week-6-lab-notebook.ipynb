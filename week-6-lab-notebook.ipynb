{
 "cells": [
  {
   "cell_type": "code",
   "execution_count": 28,
   "metadata": {},
   "outputs": [
    {
     "name": "stdout",
     "output_type": "stream",
     "text": [
      "This function takes in your string ' Kabi ' and returns a string of random numbers, cool right\n"
     ]
    },
    {
     "data": {
      "text/plain": [
       "'8616'"
      ]
     },
     "execution_count": 28,
     "metadata": {},
     "output_type": "execute_result"
    }
   ],
   "source": [
    "import random\n",
    "def doSomething(name):\n",
    "    print(\"This function takes in your string \\'\", name, \"\\' and returns a string of random numbers, cool right\")\n",
    "    print(\"Unless of course, your name is Shelton, then you're the coolest and it will tell you that\")\n",
    "    \n",
    "    if(name.lower() == \"shelton\"):\n",
    "        return \"You are the coolest\"\n",
    "    else:\n",
    "        numString = \"\"\n",
    "        for letter in name: \n",
    "            numString += str(random.randint(1,10))\n",
    "    \n",
    "        return numString\n",
    "\n",
    "doSomething(input())"
   ]
  }
 ],
 "metadata": {
  "kernelspec": {
   "display_name": "Python 3",
   "language": "python",
   "name": "python3"
  },
  "language_info": {
   "codemirror_mode": {
    "name": "ipython",
    "version": 3
   },
   "file_extension": ".py",
   "mimetype": "text/x-python",
   "name": "python",
   "nbconvert_exporter": "python",
   "pygments_lexer": "ipython3",
   "version": "3.7.8"
  }
 },
 "nbformat": 4,
 "nbformat_minor": 4
}
